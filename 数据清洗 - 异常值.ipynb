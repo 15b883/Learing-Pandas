{
 "cells": [
  {
   "cell_type": "markdown",
   "source": [
    "# 异常值处理"
   ],
   "metadata": {
    "collapsed": false
   }
  },
  {
   "cell_type": "code",
   "execution_count": 1,
   "outputs": [
    {
     "data": {
      "text/plain": "      rating_A  rating_B\nA001        -1        -5\nA002         3         5\nA003         4         4\nA004         6         5\nA005         3         5\nA006         5         5",
      "text/html": "<div>\n<style scoped>\n    .dataframe tbody tr th:only-of-type {\n        vertical-align: middle;\n    }\n\n    .dataframe tbody tr th {\n        vertical-align: top;\n    }\n\n    .dataframe thead th {\n        text-align: right;\n    }\n</style>\n<table border=\"1\" class=\"dataframe\">\n  <thead>\n    <tr style=\"text-align: right;\">\n      <th></th>\n      <th>rating_A</th>\n      <th>rating_B</th>\n    </tr>\n  </thead>\n  <tbody>\n    <tr>\n      <th>A001</th>\n      <td>-1</td>\n      <td>-5</td>\n    </tr>\n    <tr>\n      <th>A002</th>\n      <td>3</td>\n      <td>5</td>\n    </tr>\n    <tr>\n      <th>A003</th>\n      <td>4</td>\n      <td>4</td>\n    </tr>\n    <tr>\n      <th>A004</th>\n      <td>6</td>\n      <td>5</td>\n    </tr>\n    <tr>\n      <th>A005</th>\n      <td>3</td>\n      <td>5</td>\n    </tr>\n    <tr>\n      <th>A006</th>\n      <td>5</td>\n      <td>5</td>\n    </tr>\n  </tbody>\n</table>\n</div>"
     },
     "execution_count": 1,
     "metadata": {},
     "output_type": "execute_result"
    }
   ],
   "source": [
    "import pandas as pd\n",
    "import numpy as np\n",
    "df = pd.DataFrame({'rating_A':[-1,3,4,6,3,5],\n",
    "                   'rating_B':[-5,5,4,5,5,5]},\n",
    "                  index = ['A001','A002','A003','A004','A005','A006'])\n",
    "df"
   ],
   "metadata": {
    "collapsed": false
   }
  },
  {
   "cell_type": "markdown",
   "source": [
    "  绝对值大于5为异常"
   ],
   "metadata": {
    "collapsed": false
   }
  },
  {
   "cell_type": "code",
   "execution_count": 2,
   "outputs": [
    {
     "name": "stderr",
     "output_type": "stream",
     "text": [
      "C:\\Users\\syavi\\AppData\\Local\\Temp\\ipykernel_6704\\4253585211.py:1: FutureWarning: In a future version of pandas all arguments of DataFrame.any and Series.any will be keyword-only.\n",
      "  outlier = df[df[np.abs(df)>5].any(1)]\n"
     ]
    },
    {
     "data": {
      "text/plain": "      rating_A  rating_B\nA004         6         5",
      "text/html": "<div>\n<style scoped>\n    .dataframe tbody tr th:only-of-type {\n        vertical-align: middle;\n    }\n\n    .dataframe tbody tr th {\n        vertical-align: top;\n    }\n\n    .dataframe thead th {\n        text-align: right;\n    }\n</style>\n<table border=\"1\" class=\"dataframe\">\n  <thead>\n    <tr style=\"text-align: right;\">\n      <th></th>\n      <th>rating_A</th>\n      <th>rating_B</th>\n    </tr>\n  </thead>\n  <tbody>\n    <tr>\n      <th>A004</th>\n      <td>6</td>\n      <td>5</td>\n    </tr>\n  </tbody>\n</table>\n</div>"
     },
     "execution_count": 2,
     "metadata": {},
     "output_type": "execute_result"
    }
   ],
   "source": [
    "outlier = df[df[np.abs(df)>5].any(1)]  #识别异常值 any(1)表示行\n",
    "outlier"
   ],
   "metadata": {
    "collapsed": false
   }
  },
  {
   "cell_type": "code",
   "execution_count": 3,
   "outputs": [
    {
     "data": {
      "text/plain": "      rating_A  rating_B\nA001        -1        -5\nA002         3         5\nA003         4         4\nA004         6         5\nA005         3         5\nA006         5         5",
      "text/html": "<div>\n<style scoped>\n    .dataframe tbody tr th:only-of-type {\n        vertical-align: middle;\n    }\n\n    .dataframe tbody tr th {\n        vertical-align: top;\n    }\n\n    .dataframe thead th {\n        text-align: right;\n    }\n</style>\n<table border=\"1\" class=\"dataframe\">\n  <thead>\n    <tr style=\"text-align: right;\">\n      <th></th>\n      <th>rating_A</th>\n      <th>rating_B</th>\n    </tr>\n  </thead>\n  <tbody>\n    <tr>\n      <th>A001</th>\n      <td>-1</td>\n      <td>-5</td>\n    </tr>\n    <tr>\n      <th>A002</th>\n      <td>3</td>\n      <td>5</td>\n    </tr>\n    <tr>\n      <th>A003</th>\n      <td>4</td>\n      <td>4</td>\n    </tr>\n    <tr>\n      <th>A004</th>\n      <td>6</td>\n      <td>5</td>\n    </tr>\n    <tr>\n      <th>A005</th>\n      <td>3</td>\n      <td>5</td>\n    </tr>\n    <tr>\n      <th>A006</th>\n      <td>5</td>\n      <td>5</td>\n    </tr>\n  </tbody>\n</table>\n</div>"
     },
     "execution_count": 3,
     "metadata": {},
     "output_type": "execute_result"
    }
   ],
   "source": [
    "df.index.isin(outlier.index)  #识别异常值的索引\n",
    "df"
   ],
   "metadata": {
    "collapsed": false
   }
  },
  {
   "cell_type": "code",
   "execution_count": 5,
   "outputs": [
    {
     "data": {
      "text/plain": "      rating_A  rating_B\nA001        -1        -5\nA002         3         5\nA003         4         4\nA005         3         5\nA006         5         5",
      "text/html": "<div>\n<style scoped>\n    .dataframe tbody tr th:only-of-type {\n        vertical-align: middle;\n    }\n\n    .dataframe tbody tr th {\n        vertical-align: top;\n    }\n\n    .dataframe thead th {\n        text-align: right;\n    }\n</style>\n<table border=\"1\" class=\"dataframe\">\n  <thead>\n    <tr style=\"text-align: right;\">\n      <th></th>\n      <th>rating_A</th>\n      <th>rating_B</th>\n    </tr>\n  </thead>\n  <tbody>\n    <tr>\n      <th>A001</th>\n      <td>-1</td>\n      <td>-5</td>\n    </tr>\n    <tr>\n      <th>A002</th>\n      <td>3</td>\n      <td>5</td>\n    </tr>\n    <tr>\n      <th>A003</th>\n      <td>4</td>\n      <td>4</td>\n    </tr>\n    <tr>\n      <th>A005</th>\n      <td>3</td>\n      <td>5</td>\n    </tr>\n    <tr>\n      <th>A006</th>\n      <td>5</td>\n      <td>5</td>\n    </tr>\n  </tbody>\n</table>\n</div>"
     },
     "execution_count": 5,
     "metadata": {},
     "output_type": "execute_result"
    }
   ],
   "source": [
    "df[~df.index.isin(outlier.index)]  #删除异常值"
   ],
   "metadata": {
    "collapsed": false
   }
  },
  {
   "cell_type": "code",
   "execution_count": null,
   "outputs": [],
   "source": [],
   "metadata": {
    "collapsed": false
   }
  }
 ],
 "metadata": {
  "kernelspec": {
   "display_name": "Python 3",
   "language": "python",
   "name": "python3"
  },
  "language_info": {
   "codemirror_mode": {
    "name": "ipython",
    "version": 2
   },
   "file_extension": ".py",
   "mimetype": "text/x-python",
   "name": "python",
   "nbconvert_exporter": "python",
   "pygments_lexer": "ipython2",
   "version": "2.7.6"
  }
 },
 "nbformat": 4,
 "nbformat_minor": 0
}
