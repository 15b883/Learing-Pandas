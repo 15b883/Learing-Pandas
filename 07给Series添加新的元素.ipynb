{
 "cells": [
  {
   "cell_type": "markdown",
   "id": "a12acd93-aa33-4c87-adfa-b25535822cc1",
   "metadata": {},
   "source": [
    "# 给Series添加新的元素"
   ]
  },
  {
   "cell_type": "code",
   "execution_count": 18,
   "id": "a9195a59-8131-4b59-93ba-593f73f8eb5d",
   "metadata": {},
   "outputs": [],
   "source": [
    "import pandas as pd"
   ]
  },
  {
   "cell_type": "code",
   "execution_count": 19,
   "id": "8b042499-5a1d-4139-bf06-35ed6e7b44ee",
   "metadata": {},
   "outputs": [],
   "source": [
    "grades = {\"语文\":80,\"数学\":90,\"英语\":95,\"计算机\":100}\n",
    "\n",
    "data = pd.Series(data=grades)"
   ]
  },
  {
   "cell_type": "markdown",
   "id": "4298a27f-ea83-4322-ab28-8d0bac6ddb10",
   "metadata": {},
   "source": [
    "从这里开始完成题目"
   ]
  },
  {
   "cell_type": "code",
   "execution_count": 20,
   "id": "fe102445-0fed-45f8-b16e-951b51e98e65",
   "metadata": {},
   "outputs": [
    {
     "name": "stderr",
     "output_type": "stream",
     "text": [
      "/var/folders/nw/d99gp7z92614jx0p0drwdsq40000gn/T/ipykernel_2846/2461182149.py:1: FutureWarning: The series.append method is deprecated and will be removed from pandas in a future version. Use pandas.concat instead.\n",
      "  data1 = data.append(pd.Series({\n"
     ]
    }
   ],
   "source": [
    "data1 = data.append(pd.Series({\n",
    "    \"物理\":80,\n",
    "    \"化学\":99\n",
    "}))"
   ]
  },
  {
   "cell_type": "code",
   "execution_count": 21,
   "id": "4cc31d02-4a65-4e26-a6fb-749899c8b119",
   "metadata": {},
   "outputs": [
    {
     "data": {
      "text/plain": [
       "语文      80\n",
       "数学      90\n",
       "英语      95\n",
       "计算机    100\n",
       "物理      80\n",
       "化学      99\n",
       "dtype: int64"
      ]
     },
     "execution_count": 21,
     "metadata": {},
     "output_type": "execute_result"
    }
   ],
   "source": [
    "data1"
   ]
  }
 ],
 "metadata": {
  "kernelspec": {
   "display_name": "Python 3 (ipykernel)",
   "language": "python",
   "name": "python3"
  },
  "language_info": {
   "codemirror_mode": {
    "name": "ipython",
    "version": 3
   },
   "file_extension": ".py",
   "mimetype": "text/x-python",
   "name": "python",
   "nbconvert_exporter": "python",
   "pygments_lexer": "ipython3",
   "version": "3.10.0"
  }
 },
 "nbformat": 4,
 "nbformat_minor": 5
}
