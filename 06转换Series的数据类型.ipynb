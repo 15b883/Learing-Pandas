{
 "cells": [
  {
   "cell_type": "markdown",
   "id": "9af768f8-c109-43bb-a8a5-8a2414e4b808",
   "metadata": {},
   "source": [
    "# 转换Series的数据类型"
   ]
  },
  {
   "cell_type": "code",
   "execution_count": 1,
   "id": "2de4d40d-8645-4597-8bdd-cffa1d3afdfd",
   "metadata": {},
   "outputs": [],
   "source": [
    "import pandas as pd"
   ]
  },
  {
   "cell_type": "code",
   "execution_count": 2,
   "id": "fbdd0873-39be-4699-8cd3-2451c2a976c9",
   "metadata": {},
   "outputs": [],
   "source": [
    "s = pd.Series(\n",
    "    data=[\"001\",\"002\",\"003\",\"004\"],\n",
    "    index=list(\"abcd\")\n",
    ")"
   ]
  },
  {
   "cell_type": "markdown",
   "id": "19ccb746-44a3-482d-a8d9-bbaf2d2092c6",
   "metadata": {},
   "source": [
    "从这里开始执行题目"
   ]
  },
  {
   "cell_type": "code",
   "execution_count": 3,
   "id": "cdc1b1eb-ded7-48f3-abe3-834039beaf82",
   "metadata": {},
   "outputs": [],
   "source": [
    "s1 = s.astype(int) # 这个int是个int类型"
   ]
  },
  {
   "cell_type": "code",
   "execution_count": 4,
   "id": "7f46facf-f0aa-42a5-923f-fae6393bd785",
   "metadata": {},
   "outputs": [
    {
     "data": {
      "text/plain": [
       "a    1\n",
       "b    2\n",
       "c    3\n",
       "d    4\n",
       "dtype: int64"
      ]
     },
     "execution_count": 4,
     "metadata": {},
     "output_type": "execute_result"
    }
   ],
   "source": [
    "s1"
   ]
  },
  {
   "cell_type": "code",
   "execution_count": 5,
   "id": "53b965a0-dcef-49e8-81b2-40b9c22ad691",
   "metadata": {},
   "outputs": [],
   "source": [
    "s2 = s.map(int) # 这个int是个函数"
   ]
  },
  {
   "cell_type": "code",
   "execution_count": 6,
   "id": "c05c4d7f-8269-489d-928e-e36cff594748",
   "metadata": {},
   "outputs": [
    {
     "data": {
      "text/plain": [
       "a    1\n",
       "b    2\n",
       "c    3\n",
       "d    4\n",
       "dtype: int64"
      ]
     },
     "execution_count": 6,
     "metadata": {},
     "output_type": "execute_result"
    }
   ],
   "source": [
    "s2"
   ]
  }
 ],
 "metadata": {
  "kernelspec": {
   "display_name": "Python 3 (ipykernel)",
   "language": "python",
   "name": "python3"
  },
  "language_info": {
   "codemirror_mode": {
    "name": "ipython",
    "version": 3
   },
   "file_extension": ".py",
   "mimetype": "text/x-python",
   "name": "python",
   "nbconvert_exporter": "python",
   "pygments_lexer": "ipython3",
   "version": "3.10.0"
  }
 },
 "nbformat": 4,
 "nbformat_minor": 5
}
