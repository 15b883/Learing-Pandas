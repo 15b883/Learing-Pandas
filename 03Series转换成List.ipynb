{
 "cells": [
  {
   "cell_type": "markdown",
   "id": "b1258945-7b8d-4a3f-94f1-af9bbb51c307",
   "metadata": {},
   "source": [
    "# Series 转换成 List"
   ]
  },
  {
   "cell_type": "code",
   "execution_count": 1,
   "id": "05b5e18a-009f-46cb-98eb-c9945df2e222",
   "metadata": {},
   "outputs": [],
   "source": [
    "import pandas as pd"
   ]
  },
  {
   "cell_type": "code",
   "execution_count": 2,
   "id": "7d45fb94-3dc5-4f44-94a5-cff8d6ebf7b4",
   "metadata": {},
   "outputs": [],
   "source": [
    "grades = {\"语文\":80,\"数学\":90,\"英语\":95,\"计算机\":100}\n",
    "\n",
    "data = pd.Series(data=grades)"
   ]
  },
  {
   "cell_type": "markdown",
   "id": "bf130785-8fac-426e-845f-0dae0421317a",
   "metadata": {},
   "source": [
    " 从这里开始完成题目"
   ]
  },
  {
   "cell_type": "code",
   "execution_count": 3,
   "id": "fda5414c-59e1-4857-a0ba-2bd25922f6d4",
   "metadata": {},
   "outputs": [],
   "source": [
    "list = data.tolist()"
   ]
  },
  {
   "cell_type": "code",
   "execution_count": 4,
   "id": "8c5c34e1-3f74-41ce-92ac-62aac839a820",
   "metadata": {},
   "outputs": [
    {
     "data": {
      "text/plain": [
       "[80, 90, 95, 100]"
      ]
     },
     "execution_count": 4,
     "metadata": {},
     "output_type": "execute_result"
    }
   ],
   "source": [
    "list"
   ]
  }
 ],
 "metadata": {
  "kernelspec": {
   "display_name": "Python 3 (ipykernel)",
   "language": "python",
   "name": "python3"
  },
  "language_info": {
   "codemirror_mode": {
    "name": "ipython",
    "version": 3
   },
   "file_extension": ".py",
   "mimetype": "text/x-python",
   "name": "python",
   "nbconvert_exporter": "python",
   "pygments_lexer": "ipython3",
   "version": "3.10.0"
  }
 },
 "nbformat": 4,
 "nbformat_minor": 5
}
