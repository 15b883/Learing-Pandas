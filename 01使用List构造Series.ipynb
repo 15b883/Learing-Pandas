{
 "cells": [
  {
   "cell_type": "markdown",
   "id": "6e89be4b-4a7d-4215-b82e-7b263a0bbfbf",
   "metadata": {},
   "source": [
    "# 使用list构造Series"
   ]
  },
  {
   "cell_type": "code",
   "execution_count": 5,
   "id": "2151b178-7852-4755-9ee7-158379ee1876",
   "metadata": {},
   "outputs": [],
   "source": [
    "import pandas as pd"
   ]
  },
  {
   "cell_type": "code",
   "execution_count": 6,
   "id": "be715267-542c-4e29-bfe3-184be6ffe5cb",
   "metadata": {},
   "outputs": [],
   "source": [
    "data_list = [\"语文\",\"数学\",\"英语\",\"计算机\"]"
   ]
  },
  {
   "cell_type": "code",
   "execution_count": 7,
   "id": "37f75292-0585-419b-bdd9-a1e180061e4c",
   "metadata": {},
   "outputs": [],
   "source": [
    "data = pd.Series(data=data_list)"
   ]
  },
  {
   "cell_type": "code",
   "execution_count": 8,
   "id": "6bcdc6e4-fc4f-4b7b-ac4f-5235d8bf3c3d",
   "metadata": {},
   "outputs": [
    {
     "data": {
      "text/plain": "0     语文\n1     数学\n2     英语\n3    计算机\ndtype: object"
     },
     "execution_count": 8,
     "metadata": {},
     "output_type": "execute_result"
    }
   ],
   "source": [
    "data"
   ]
  },
  {
   "cell_type": "code",
   "execution_count": null,
   "outputs": [],
   "source": [],
   "metadata": {
    "collapsed": false
   }
  }
 ],
 "metadata": {
  "kernelspec": {
   "display_name": "Python 3 (ipykernel)",
   "language": "python",
   "name": "python3"
  },
  "language_info": {
   "codemirror_mode": {
    "name": "ipython",
    "version": 3
   },
   "file_extension": ".py",
   "mimetype": "text/x-python",
   "name": "python",
   "nbconvert_exporter": "python",
   "pygments_lexer": "ipython3",
   "version": "3.10.0"
  }
 },
 "nbformat": 4,
 "nbformat_minor": 5
}
