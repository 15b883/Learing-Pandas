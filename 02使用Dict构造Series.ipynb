{
 "cells": [
  {
   "cell_type": "markdown",
   "id": "dedc10fa-4e84-4a98-946b-14ad7803a509",
   "metadata": {},
   "source": [
    "# 使用Dict构造Series"
   ]
  },
  {
   "cell_type": "markdown",
   "id": "4063f778-c13a-4eaf-88c4-ba08a46a46eb",
   "metadata": {},
   "source": [
    "使用Pandas\n",
    "把下方的数据Dict变成一个Series\n",
    "将Series输出到到命令行\n",
    "\n",
    "grades = {\"语文\":80,\"数学\":90,\"英语\":95,\"计算机\":100}"
   ]
  },
  {
   "cell_type": "code",
   "execution_count": 8,
   "id": "8cf4db75-df0d-4169-a6c4-76c6a7eb09e2",
   "metadata": {},
   "outputs": [],
   "source": [
    "import pandas as pd"
   ]
  },
  {
   "cell_type": "code",
   "execution_count": 9,
   "id": "badc2a0a-19c0-4b2d-b1b6-e5c6f54eed6f",
   "metadata": {},
   "outputs": [],
   "source": [
    "grades = {\"语文\":80,\"数学\":90,\"英语\":95,\"计算机\":100}"
   ]
  },
  {
   "cell_type": "code",
   "execution_count": 11,
   "id": "1b4c93de-384e-484e-9401-e91795bf5849",
   "metadata": {},
   "outputs": [],
   "source": [
    "data = pd.Series(data=grades)"
   ]
  },
  {
   "cell_type": "code",
   "execution_count": 12,
   "id": "9b6c87d7-cf41-4b79-989b-02879f93a39d",
   "metadata": {},
   "outputs": [
    {
     "data": {
      "text/plain": [
       "语文      80\n",
       "数学      90\n",
       "英语      95\n",
       "计算机    100\n",
       "dtype: int64"
      ]
     },
     "execution_count": 12,
     "metadata": {},
     "output_type": "execute_result"
    }
   ],
   "source": [
    "data"
   ]
  }
 ],
 "metadata": {
  "kernelspec": {
   "display_name": "Python 3 (ipykernel)",
   "language": "python",
   "name": "python3"
  },
  "language_info": {
   "codemirror_mode": {
    "name": "ipython",
    "version": 3
   },
   "file_extension": ".py",
   "mimetype": "text/x-python",
   "name": "python",
   "nbconvert_exporter": "python",
   "pygments_lexer": "ipython3",
   "version": "3.10.0"
  }
 },
 "nbformat": 4,
 "nbformat_minor": 5
}
