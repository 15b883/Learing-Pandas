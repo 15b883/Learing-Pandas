{
 "cells": [
  {
   "cell_type": "markdown",
   "id": "cf9290a3-4649-4b65-88a2-2537318d4b7b",
   "metadata": {},
   "source": [
    "# 用Numpy创建Series"
   ]
  },
  {
   "cell_type": "code",
   "execution_count": 4,
   "id": "03164311-81e0-45f4-912d-4561ac4a2087",
   "metadata": {},
   "outputs": [],
   "source": [
    "import numpy as np\n",
    "import pandas as pd"
   ]
  },
  {
   "cell_type": "code",
   "execution_count": 5,
   "id": "960e75c7-8db9-45ec-bfc9-13822158fee2",
   "metadata": {},
   "outputs": [],
   "source": [
    "s = pd.Series(\n",
    "    np.arange(10, 100, 10),  # 数值10~90，间隔10\n",
    "    index=np.arange(101,110), # 索引101~109，间隔1\n",
    "    dtype='float'  # 类型 float64\n",
    ")"
   ]
  },
  {
   "cell_type": "code",
   "execution_count": 6,
   "id": "01fb6239-2527-492d-acce-879f74ba638a",
   "metadata": {},
   "outputs": [
    {
     "data": {
      "text/plain": [
       "101    10.0\n",
       "102    20.0\n",
       "103    30.0\n",
       "104    40.0\n",
       "105    50.0\n",
       "106    60.0\n",
       "107    70.0\n",
       "108    80.0\n",
       "109    90.0\n",
       "dtype: float64"
      ]
     },
     "execution_count": 6,
     "metadata": {},
     "output_type": "execute_result"
    }
   ],
   "source": [
    "s"
   ]
  }
 ],
 "metadata": {
  "kernelspec": {
   "display_name": "Python 3 (ipykernel)",
   "language": "python",
   "name": "python3"
  },
  "language_info": {
   "codemirror_mode": {
    "name": "ipython",
    "version": 3
   },
   "file_extension": ".py",
   "mimetype": "text/x-python",
   "name": "python",
   "nbconvert_exporter": "python",
   "pygments_lexer": "ipython3",
   "version": "3.10.0"
  }
 },
 "nbformat": 4,
 "nbformat_minor": 5
}
