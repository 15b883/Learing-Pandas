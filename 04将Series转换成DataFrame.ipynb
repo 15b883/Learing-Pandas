{
 "cells": [
  {
   "cell_type": "markdown",
   "id": "b6bf0fe4-359c-4661-95bd-dbb34a16ffd2",
   "metadata": {},
   "source": [
    "# 将Series转换成DataFrame"
   ]
  },
  {
   "cell_type": "code",
   "execution_count": 1,
   "id": "551b46f3-f034-4c9b-b062-41238309b4a6",
   "metadata": {},
   "outputs": [],
   "source": [
    "import pandas as pd"
   ]
  },
  {
   "cell_type": "code",
   "execution_count": 2,
   "id": "db4d5797-c788-4c3d-899f-262033892c6b",
   "metadata": {},
   "outputs": [],
   "source": [
    "grades = {\"语文\":80,\"数学\":90,\"英语\":95,\"计算机\":100}\n",
    "\n",
    "data = pd.Series(data=grades)"
   ]
  },
  {
   "cell_type": "markdown",
   "id": "2d704ee2-aecd-4ac6-b4da-3aabe991fb1f",
   "metadata": {},
   "source": [
    "从这里开始完成题目"
   ]
  },
  {
   "cell_type": "code",
   "execution_count": 3,
   "id": "89fa51d4-3bc6-4f0b-9897-f6dce661b67b",
   "metadata": {},
   "outputs": [],
   "source": [
    "df = pd.DataFrame(data, columns=['grade'])"
   ]
  },
  {
   "cell_type": "code",
   "execution_count": 4,
   "id": "7fa07ce5-550f-4971-a642-2c867ce5eeec",
   "metadata": {},
   "outputs": [
    {
     "data": {
      "text/html": [
       "<div>\n",
       "<style scoped>\n",
       "    .dataframe tbody tr th:only-of-type {\n",
       "        vertical-align: middle;\n",
       "    }\n",
       "\n",
       "    .dataframe tbody tr th {\n",
       "        vertical-align: top;\n",
       "    }\n",
       "\n",
       "    .dataframe thead th {\n",
       "        text-align: right;\n",
       "    }\n",
       "</style>\n",
       "<table border=\"1\" class=\"dataframe\">\n",
       "  <thead>\n",
       "    <tr style=\"text-align: right;\">\n",
       "      <th></th>\n",
       "      <th>grade</th>\n",
       "    </tr>\n",
       "  </thead>\n",
       "  <tbody>\n",
       "    <tr>\n",
       "      <th>语文</th>\n",
       "      <td>80</td>\n",
       "    </tr>\n",
       "    <tr>\n",
       "      <th>数学</th>\n",
       "      <td>90</td>\n",
       "    </tr>\n",
       "    <tr>\n",
       "      <th>英语</th>\n",
       "      <td>95</td>\n",
       "    </tr>\n",
       "    <tr>\n",
       "      <th>计算机</th>\n",
       "      <td>100</td>\n",
       "    </tr>\n",
       "  </tbody>\n",
       "</table>\n",
       "</div>"
      ],
      "text/plain": [
       "     grade\n",
       "语文      80\n",
       "数学      90\n",
       "英语      95\n",
       "计算机    100"
      ]
     },
     "execution_count": 4,
     "metadata": {},
     "output_type": "execute_result"
    }
   ],
   "source": [
    "df"
   ]
  },
  {
   "cell_type": "code",
   "execution_count": null,
   "id": "2c8b2d0b-77b0-43d3-a8e8-af7ddaa51bed",
   "metadata": {},
   "outputs": [],
   "source": []
  }
 ],
 "metadata": {
  "kernelspec": {
   "display_name": "Python 3 (ipykernel)",
   "language": "python",
   "name": "python3"
  },
  "language_info": {
   "codemirror_mode": {
    "name": "ipython",
    "version": 3
   },
   "file_extension": ".py",
   "mimetype": "text/x-python",
   "name": "python",
   "nbconvert_exporter": "python",
   "pygments_lexer": "ipython3",
   "version": "3.10.0"
  }
 },
 "nbformat": 4,
 "nbformat_minor": 5
}
