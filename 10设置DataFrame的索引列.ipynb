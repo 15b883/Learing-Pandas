{
 "cells": [
  {
   "cell_type": "markdown",
   "id": "1bc850fa-e1c1-4c3a-ae79-e798550bbe0e",
   "metadata": {},
   "source": [
    "# 设置DataFrame的索引列"
   ]
  },
  {
   "cell_type": "code",
   "execution_count": 10,
   "id": "470b70b2-391d-4127-b6ab-8dcd2627a0ac",
   "metadata": {},
   "outputs": [],
   "source": [
    "import pandas as pd"
   ]
  },
  {
   "cell_type": "code",
   "execution_count": 11,
   "id": "a0645da1-f51e-4787-a840-dda3be1a5d8f",
   "metadata": {},
   "outputs": [],
   "source": [
    "data = {\n",
    "        \"姓名\":[\"张三\",\"李四\",\"王五\",\"赵六\"], \n",
    "        \"性别\":[\"男\",\"女\",\"女\",\"男\"],\n",
    "        \"年龄\":[15,14,16,17]   # 注意 这里的值要与上面的值一一对齐\n",
    "}"
   ]
  },
  {
   "cell_type": "code",
   "execution_count": 12,
   "id": "f63a12ab-b1a2-4e4b-9f21-222615d5a4a8",
   "metadata": {},
   "outputs": [],
   "source": [
    "df = pd.DataFrame(data)"
   ]
  },
  {
   "cell_type": "markdown",
   "id": "29ae1903-47d4-4a29-ac83-7ac34beb27dc",
   "metadata": {},
   "source": [
    "---------"
   ]
  },
  {
   "cell_type": "code",
   "execution_count": 13,
   "id": "f1940647-dbc7-45f1-a5f1-7367fd42cef2",
   "metadata": {},
   "outputs": [],
   "source": [
    "df.set_index(\"姓名\", inplace=True)"
   ]
  },
  {
   "cell_type": "code",
   "execution_count": 14,
   "id": "6e15bb60-4cbf-4c19-b2a6-2fb77a2ad918",
   "metadata": {},
   "outputs": [
    {
     "data": {
      "text/html": [
       "<div>\n",
       "<style scoped>\n",
       "    .dataframe tbody tr th:only-of-type {\n",
       "        vertical-align: middle;\n",
       "    }\n",
       "\n",
       "    .dataframe tbody tr th {\n",
       "        vertical-align: top;\n",
       "    }\n",
       "\n",
       "    .dataframe thead th {\n",
       "        text-align: right;\n",
       "    }\n",
       "</style>\n",
       "<table border=\"1\" class=\"dataframe\">\n",
       "  <thead>\n",
       "    <tr style=\"text-align: right;\">\n",
       "      <th></th>\n",
       "      <th>性别</th>\n",
       "      <th>年龄</th>\n",
       "    </tr>\n",
       "    <tr>\n",
       "      <th>姓名</th>\n",
       "      <th></th>\n",
       "      <th></th>\n",
       "    </tr>\n",
       "  </thead>\n",
       "  <tbody>\n",
       "    <tr>\n",
       "      <th>张三</th>\n",
       "      <td>男</td>\n",
       "      <td>15</td>\n",
       "    </tr>\n",
       "    <tr>\n",
       "      <th>李四</th>\n",
       "      <td>女</td>\n",
       "      <td>14</td>\n",
       "    </tr>\n",
       "    <tr>\n",
       "      <th>王五</th>\n",
       "      <td>女</td>\n",
       "      <td>16</td>\n",
       "    </tr>\n",
       "    <tr>\n",
       "      <th>赵六</th>\n",
       "      <td>男</td>\n",
       "      <td>17</td>\n",
       "    </tr>\n",
       "  </tbody>\n",
       "</table>\n",
       "</div>"
      ],
      "text/plain": [
       "   性别  年龄\n",
       "姓名       \n",
       "张三  男  15\n",
       "李四  女  14\n",
       "王五  女  16\n",
       "赵六  男  17"
      ]
     },
     "execution_count": 14,
     "metadata": {},
     "output_type": "execute_result"
    }
   ],
   "source": [
    "df"
   ]
  }
 ],
 "metadata": {
  "kernelspec": {
   "display_name": "Python 3 (ipykernel)",
   "language": "python",
   "name": "python3"
  },
  "language_info": {
   "codemirror_mode": {
    "name": "ipython",
    "version": 3
   },
   "file_extension": ".py",
   "mimetype": "text/x-python",
   "name": "python",
   "nbconvert_exporter": "python",
   "pygments_lexer": "ipython3",
   "version": "3.10.0"
  }
 },
 "nbformat": 4,
 "nbformat_minor": 5
}
