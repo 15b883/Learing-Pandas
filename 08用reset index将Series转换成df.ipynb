{
 "cells": [
  {
   "cell_type": "markdown",
   "id": "811b597b-03ed-4ddf-af54-67df8267bfa5",
   "metadata": {},
   "source": [
    "# 用reset index将Series转换成df"
   ]
  },
  {
   "cell_type": "code",
   "execution_count": 1,
   "id": "d80c115a-80a4-4fc3-9289-561dd83155ea",
   "metadata": {},
   "outputs": [],
   "source": [
    "import pandas as pd"
   ]
  },
  {
   "cell_type": "code",
   "execution_count": 2,
   "id": "1d85ac87-33ce-45d4-bd2a-529c4e0b83ab",
   "metadata": {},
   "outputs": [],
   "source": [
    "grades = {\"语文\":80,\"数学\":90,\"英语\":95,\"计算机\":100}\n",
    "\n",
    "data = pd.Series(data=grades)"
   ]
  },
  {
   "cell_type": "markdown",
   "id": "900a627d-7440-44fe-927d-01bf98bc4d34",
   "metadata": {},
   "source": [
    "---------"
   ]
  },
  {
   "cell_type": "code",
   "execution_count": 3,
   "id": "caa9a115-fb36-466d-89c9-8d889c6d3c8a",
   "metadata": {},
   "outputs": [],
   "source": [
    "df = data.reset_index()\n",
    "df.columns = [\"第一行\",\"第二行\"]"
   ]
  },
  {
   "cell_type": "code",
   "execution_count": 4,
   "id": "b1b4d8cd-dde4-4baa-89ae-05e83bdf6f80",
   "metadata": {},
   "outputs": [
    {
     "data": {
      "text/html": [
       "<div>\n",
       "<style scoped>\n",
       "    .dataframe tbody tr th:only-of-type {\n",
       "        vertical-align: middle;\n",
       "    }\n",
       "\n",
       "    .dataframe tbody tr th {\n",
       "        vertical-align: top;\n",
       "    }\n",
       "\n",
       "    .dataframe thead th {\n",
       "        text-align: right;\n",
       "    }\n",
       "</style>\n",
       "<table border=\"1\" class=\"dataframe\">\n",
       "  <thead>\n",
       "    <tr style=\"text-align: right;\">\n",
       "      <th></th>\n",
       "      <th>第一行</th>\n",
       "      <th>第二行</th>\n",
       "    </tr>\n",
       "  </thead>\n",
       "  <tbody>\n",
       "    <tr>\n",
       "      <th>0</th>\n",
       "      <td>语文</td>\n",
       "      <td>80</td>\n",
       "    </tr>\n",
       "    <tr>\n",
       "      <th>1</th>\n",
       "      <td>数学</td>\n",
       "      <td>90</td>\n",
       "    </tr>\n",
       "    <tr>\n",
       "      <th>2</th>\n",
       "      <td>英语</td>\n",
       "      <td>95</td>\n",
       "    </tr>\n",
       "    <tr>\n",
       "      <th>3</th>\n",
       "      <td>计算机</td>\n",
       "      <td>100</td>\n",
       "    </tr>\n",
       "  </tbody>\n",
       "</table>\n",
       "</div>"
      ],
      "text/plain": [
       "   第一行  第二行\n",
       "0   语文   80\n",
       "1   数学   90\n",
       "2   英语   95\n",
       "3  计算机  100"
      ]
     },
     "execution_count": 4,
     "metadata": {},
     "output_type": "execute_result"
    }
   ],
   "source": [
    "df"
   ]
  }
 ],
 "metadata": {
  "kernelspec": {
   "display_name": "Python 3 (ipykernel)",
   "language": "python",
   "name": "python3"
  },
  "language_info": {
   "codemirror_mode": {
    "name": "ipython",
    "version": 3
   },
   "file_extension": ".py",
   "mimetype": "text/x-python",
   "name": "python",
   "nbconvert_exporter": "python",
   "pygments_lexer": "ipython3",
   "version": "3.10.0"
  }
 },
 "nbformat": 4,
 "nbformat_minor": 5
}
